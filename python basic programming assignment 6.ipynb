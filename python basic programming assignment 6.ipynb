{
 "cells": [
  {
   "cell_type": "code",
   "execution_count": 1,
   "id": "73fab962",
   "metadata": {},
   "outputs": [],
   "source": [
    "#1. Write a Python Program to Display Fibonacci Sequence Using Recursion?"
   ]
  },
  {
   "cell_type": "code",
   "execution_count": 6,
   "id": "77a9c8c1",
   "metadata": {},
   "outputs": [
    {
     "name": "stdout",
     "output_type": "stream",
     "text": [
      "FIBONACCI SEQUENCE:\n",
      "0\n",
      "1\n",
      "1\n",
      "2\n",
      "3\n",
      "5\n",
      "8\n",
      "13\n",
      "21\n",
      "34\n"
     ]
    }
   ],
   "source": [
    "def recurfib(n):\n",
    "    if n<=1:\n",
    "        return n\n",
    "    else:\n",
    "        return(recurfib(n-1) + recurfib(n-2))\n",
    "num=10\n",
    "if num<=0:\n",
    "    print(\"please enter a positive number\")\n",
    "else:\n",
    "    print(\"FIBONACCI SEQUENCE:\")\n",
    "    for i in range(num):\n",
    "        print(recurfib(i))"
   ]
  },
  {
   "cell_type": "code",
   "execution_count": 7,
   "id": "cf5f18b3",
   "metadata": {},
   "outputs": [],
   "source": [
    "#2.Write a Python Program to Find Factorial of Number Using Recursion?"
   ]
  },
  {
   "cell_type": "code",
   "execution_count": 10,
   "id": "f9c1742f",
   "metadata": {},
   "outputs": [
    {
     "name": "stdout",
     "output_type": "stream",
     "text": [
      "the factorial of 10 is 3628800\n"
     ]
    }
   ],
   "source": [
    "def recurfact(n):\n",
    "    if n==1:\n",
    "        return n\n",
    "    else:\n",
    "        return n*recurfact(n-1)\n",
    "num=10\n",
    "if num < 0:\n",
    "    print(\"number is negative so factorial doesnt exist\")\n",
    "elif num == 0:\n",
    "    print(\"factorial of 0 is 1\")\n",
    "else:\n",
    "    print(\"the factorial of\", num, \"is\", recurfact(num))"
   ]
  },
  {
   "cell_type": "code",
   "execution_count": 11,
   "id": "26b16a5a",
   "metadata": {},
   "outputs": [],
   "source": [
    "#3. Write a Python Program to calculate your Body Mass Index?"
   ]
  },
  {
   "cell_type": "code",
   "execution_count": 12,
   "id": "fc5a5691",
   "metadata": {},
   "outputs": [],
   "source": [
    "# BMI (body mass index formula)\n",
    "# BMI = weight (in kgs) / height (in mtrs) * height (in mtrs)"
   ]
  },
  {
   "cell_type": "code",
   "execution_count": 5,
   "id": "197e5e13",
   "metadata": {},
   "outputs": [
    {
     "name": "stdout",
     "output_type": "stream",
     "text": [
      "enter your height(m):1.6\n",
      "enter your weight(kg):55\n",
      "your BMI is: 21\n"
     ]
    }
   ],
   "source": [
    "height = float(input(\"enter your height(m):\"))\n",
    "weight = float(input(\"enter your weight(kg):\"))\n",
    "\n",
    "print(\"your BMI is:\",round(weight/(height*height)))"
   ]
  },
  {
   "cell_type": "code",
   "execution_count": 6,
   "id": "60c73517",
   "metadata": {},
   "outputs": [],
   "source": [
    "# 4.Write a Python Program to calculate the natural logarithm of any number?"
   ]
  },
  {
   "cell_type": "code",
   "execution_count": 7,
   "id": "c3216701",
   "metadata": {},
   "outputs": [],
   "source": [
    "import math"
   ]
  },
  {
   "cell_type": "code",
   "execution_count": 8,
   "id": "78438b1d",
   "metadata": {},
   "outputs": [
    {
     "data": {
      "text/plain": [
       "0.0"
      ]
     },
     "execution_count": 8,
     "metadata": {},
     "output_type": "execute_result"
    }
   ],
   "source": [
    "math.log(1)"
   ]
  },
  {
   "cell_type": "code",
   "execution_count": 9,
   "id": "13fd5da3",
   "metadata": {},
   "outputs": [
    {
     "data": {
      "text/plain": [
       "1.6094379124341003"
      ]
     },
     "execution_count": 9,
     "metadata": {},
     "output_type": "execute_result"
    }
   ],
   "source": [
    "math.log(5)"
   ]
  },
  {
   "cell_type": "code",
   "execution_count": 10,
   "id": "bf4ce622",
   "metadata": {},
   "outputs": [
    {
     "data": {
      "text/plain": [
       "2.1972245773362196"
      ]
     },
     "execution_count": 10,
     "metadata": {},
     "output_type": "execute_result"
    }
   ],
   "source": [
    "math.log(9)"
   ]
  },
  {
   "cell_type": "code",
   "execution_count": 11,
   "id": "7111c4aa",
   "metadata": {},
   "outputs": [
    {
     "data": {
      "text/plain": [
       "4.605170185988092"
      ]
     },
     "execution_count": 11,
     "metadata": {},
     "output_type": "execute_result"
    }
   ],
   "source": [
    "math.log(100)"
   ]
  },
  {
   "cell_type": "code",
   "execution_count": 12,
   "id": "335c7cd8",
   "metadata": {},
   "outputs": [],
   "source": [
    "# 5.Write a Python Program for cube sum of first n natural numbers?"
   ]
  },
  {
   "cell_type": "code",
   "execution_count": 30,
   "id": "1e6eaad7",
   "metadata": {},
   "outputs": [],
   "source": [
    "def cubesum(n):\n",
    "    s=0\n",
    "    for i in range(1,n+1):\n",
    "        s+=i**3\n",
    "    return s\n"
   ]
  },
  {
   "cell_type": "code",
   "execution_count": 32,
   "id": "54fbb5ac",
   "metadata": {},
   "outputs": [
    {
     "data": {
      "text/plain": [
       "225"
      ]
     },
     "execution_count": 32,
     "metadata": {},
     "output_type": "execute_result"
    }
   ],
   "source": [
    "cubesum(5)"
   ]
  },
  {
   "cell_type": "code",
   "execution_count": 33,
   "id": "1e0d1c78",
   "metadata": {},
   "outputs": [
    {
     "data": {
      "text/plain": [
       "3025"
      ]
     },
     "execution_count": 33,
     "metadata": {},
     "output_type": "execute_result"
    }
   ],
   "source": [
    "cubesum(10)"
   ]
  },
  {
   "cell_type": "code",
   "execution_count": 34,
   "id": "30b14ad2",
   "metadata": {},
   "outputs": [
    {
     "data": {
      "text/plain": [
       "44100"
      ]
     },
     "execution_count": 34,
     "metadata": {},
     "output_type": "execute_result"
    }
   ],
   "source": [
    "cubesum(20)"
   ]
  },
  {
   "cell_type": "code",
   "execution_count": null,
   "id": "d982bc20",
   "metadata": {},
   "outputs": [],
   "source": []
  }
 ],
 "metadata": {
  "kernelspec": {
   "display_name": "Python 3 (ipykernel)",
   "language": "python",
   "name": "python3"
  },
  "language_info": {
   "codemirror_mode": {
    "name": "ipython",
    "version": 3
   },
   "file_extension": ".py",
   "mimetype": "text/x-python",
   "name": "python",
   "nbconvert_exporter": "python",
   "pygments_lexer": "ipython3",
   "version": "3.9.7"
  }
 },
 "nbformat": 4,
 "nbformat_minor": 5
}
